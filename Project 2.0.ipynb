{
 "cells": [
  {
   "cell_type": "markdown",
   "id": "4de4b0b4",
   "metadata": {},
   "source": [
    "# ROCK- PAPER- SCISSOR"
   ]
  },
  {
   "cell_type": "code",
   "execution_count": null,
   "id": "2824c803",
   "metadata": {},
   "outputs": [],
   "source": [
    "player1=str(input(\"Enter R/P/S-ROCK-PAPER-SCISSOR:\"))\n",
    "print(\"PLAYER-1 \\t\",player1)\n",
    "player2=str(input(\"Enter R/P/S-ROCK-PAPER-SCISSOR:\"))\n",
    "print(\"PLAYER-1 \\t\",player2)\n",
    "print(\" * #\"*15)\n",
    "if((player1==\"R\" and player2==\"R\") or (player1==\"P\" and player2==\"P\") or (player1==\"S\" and player2==\"S\")):\n",
    "    print(\" _______________That's a TIE___________________ \")\n",
    "elif(player1==\"R\" and player2==\"P\"):\n",
    "     print(\"-------Player-2 WINS the Game----------\")\n",
    "elif(player1==\"R\" and player2==\"S\"):\n",
    "     print(\"-------Player-1 WINS the Game----------\")\n",
    "elif(player1==\"P\" and player2==\"S\"):\n",
    "     print(\"-------Player-2 WINS the Game----------\")\n",
    "elif(player1==\"P\" and player2==\"R\"):\n",
    "     print(\"-------Player-1 WINS the Game----------\")\n",
    "elif(player1==\"S\" and player2==\"R\"):\n",
    "     print(\"-------Player-2 WINS the Game----------\")\n",
    "elif(player1==\"S\" and player2==\"P\"):\n",
    "     print(\"-------Player-1 WINS the Game----------\")\n",
    "else:\n",
    "    print(\"**************Enter a VALID OPTION*****************\")"
   ]
  },
  {
   "cell_type": "code",
   "execution_count": null,
   "id": "3f80a202",
   "metadata": {},
   "outputs": [],
   "source": []
  },
  {
   "cell_type": "code",
   "execution_count": null,
   "id": "ff09793b",
   "metadata": {},
   "outputs": [],
   "source": []
  }
 ],
 "metadata": {
  "kernelspec": {
   "display_name": "Python 3",
   "language": "python",
   "name": "python3"
  },
  "language_info": {
   "codemirror_mode": {
    "name": "ipython",
    "version": 3
   },
   "file_extension": ".py",
   "mimetype": "text/x-python",
   "name": "python",
   "nbconvert_exporter": "python",
   "pygments_lexer": "ipython3",
   "version": "3.8.8"
  }
 },
 "nbformat": 4,
 "nbformat_minor": 5
}
